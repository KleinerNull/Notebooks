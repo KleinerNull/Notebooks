{
 "metadata": {
  "name": "",
  "signature": "sha256:42a35a7c5b572c7e28854d9ec4491c9f9b69e5ae8c912e7a6a5975538d1694c6"
 },
 "nbformat": 3,
 "nbformat_minor": 0,
 "worksheets": []
}