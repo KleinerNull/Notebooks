{
 "metadata": {
  "name": "",
  "signature": "sha256:5575d199dd11c8440e6bc2f6e19a76022bc3005f7422b4489b3e42dd92a9915b"
 },
 "nbformat": 3,
 "nbformat_minor": 0,
 "worksheets": [
  {
   "cells": [
    {
     "cell_type": "code",
     "collapsed": false,
     "input": [
      "import string # very useful module, provides you with nice constants"
     ],
     "language": "python",
     "metadata": {},
     "outputs": [],
     "prompt_number": 1
    },
    {
     "cell_type": "code",
     "collapsed": false,
     "input": [
      "print(string.digits)\n",
      "print(string.ascii_lowercase)\n",
      "print(string.ascii_uppercase)\n",
      "print(string.ascii_letters)\n",
      "print(string.printable)"
     ],
     "language": "python",
     "metadata": {},
     "outputs": [
      {
       "output_type": "stream",
       "stream": "stdout",
       "text": [
        "0123456789\n",
        "abcdefghijklmnopqrstuvwxyz\n",
        "ABCDEFGHIJKLMNOPQRSTUVWXYZ\n",
        "abcdefghijklmnopqrstuvwxyzABCDEFGHIJKLMNOPQRSTUVWXYZ\n",
        "0123456789abcdefghijklmnopqrstuvwxyzABCDEFGHIJKLMNOPQRSTUVWXYZ!\"#$%&'()*+,-./:;<=>?@[\\]^_`{|}~ \t\n",
        "\r",
        "\u000b",
        "\f",
        "\n"
       ]
      }
     ],
     "prompt_number": 2
    },
    {
     "cell_type": "code",
     "collapsed": false,
     "input": [
      "def encode(word, rotation=13, alphabet=string.ascii_letters):\n",
      "    '''Rotates a string by the given rotation and maps and translate the given word'''\n",
      "    rotated_alphabet = alphabet[rotation:] + alphabet[:rotation+1] #creates a rotated string via slicing\n",
      "    code_map = dict(zip(alphabet, rotated_alphabet)) # creates a dictionary to map letters to the encoded ones\n",
      "    return ''.join(code_map.get(char, char) for char in word) # the .get method of dictionaries tries to get a valid key or returns an default value, in this case the same letter"
     ],
     "language": "python",
     "metadata": {},
     "outputs": [],
     "prompt_number": 3
    },
    {
     "cell_type": "code",
     "collapsed": false,
     "input": [
      "def decode(word, rotation=13, alphabet=string.ascii_letters):\n",
      "    '''Essential the same as encode, just with a negative rotation'''\n",
      "    return encode(word, -rotation, alphabet) "
     ],
     "language": "python",
     "metadata": {},
     "outputs": [],
     "prompt_number": 4
    },
    {
     "cell_type": "code",
     "collapsed": false,
     "input": [
      "sample = 'Monty Python'"
     ],
     "language": "python",
     "metadata": {},
     "outputs": [],
     "prompt_number": 5
    },
    {
     "cell_type": "code",
     "collapsed": false,
     "input": [
      "print(encode(sample, 13))\n",
      "print(decode(encode(sample, 13)))"
     ],
     "language": "python",
     "metadata": {},
     "outputs": [
      {
       "output_type": "stream",
       "stream": "stdout",
       "text": [
        "ZBAGL cLGuBA\n",
        "Monty Python\n"
       ]
      }
     ],
     "prompt_number": 6
    },
    {
     "cell_type": "code",
     "collapsed": false,
     "input": [
      "## Now we insert a different alphabet to see the different outcomes, be aware that the decoding function has to know the right alphabet, too. "
     ],
     "language": "python",
     "metadata": {},
     "outputs": [],
     "prompt_number": 7
    },
    {
     "cell_type": "code",
     "collapsed": false,
     "input": [
      "print(encode(sample, rotation= 13, alphabet=string.ascii_lowercase))\n",
      "print(decode(encode(sample, rotation= 13, alphabet=string.ascii_lowercase), 13, string.ascii_lowercase))"
     ],
     "language": "python",
     "metadata": {},
     "outputs": [
      {
       "output_type": "stream",
       "stream": "stdout",
       "text": [
        "Mbagl Plguba\n",
        "Monty Python\n"
       ]
      }
     ],
     "prompt_number": 8
    },
    {
     "cell_type": "code",
     "collapsed": false,
     "input": [
      "print(encode(sample, rotation=13, alphabet=string.printable))\n",
      "print(decode(encode(sample, rotation=13, alphabet=string.printable), 13, string.printable))"
     ],
     "language": "python",
     "metadata": {},
     "outputs": [
      {
       "output_type": "stream",
       "stream": "stdout",
       "text": [
        "ZBAGL7#LGuBA\n",
        "Monty Python\n"
       ]
      }
     ],
     "prompt_number": 9
    }
   ],
   "metadata": {}
  }
 ]
}