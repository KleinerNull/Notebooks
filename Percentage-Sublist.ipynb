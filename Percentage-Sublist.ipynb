{
 "metadata": {
  "name": "",
  "signature": "sha256:d0007981ba9f6840f38bc2f412a7ea86030a4f01b3f122fc769035a6bd5c79b1"
 },
 "nbformat": 3,
 "nbformat_minor": 0,
 "worksheets": [
  {
   "cells": [
    {
     "cell_type": "code",
     "collapsed": false,
     "input": [
      "sample = [[.1,.3,.5],[.25,-.03,-.08,],[-.01,.02,-.03,]]"
     ],
     "language": "python",
     "metadata": {},
     "outputs": [],
     "prompt_number": 1
    },
    {
     "cell_type": "code",
     "collapsed": false,
     "input": [
      "from decimal import Decimal\n",
      "from operator import mul, add"
     ],
     "language": "python",
     "metadata": {},
     "outputs": [],
     "prompt_number": 29
    },
    {
     "cell_type": "code",
     "collapsed": false,
     "input": [
      "## Operator example\n",
      "\n",
      "print(mul(2, 3)) # == 2*3\n",
      "print(add(1, 1)) # == 1+1"
     ],
     "language": "python",
     "metadata": {},
     "outputs": [
      {
       "output_type": "stream",
       "stream": "stdout",
       "text": [
        "6\n",
        "2\n"
       ]
      }
     ],
     "prompt_number": 30
    },
    {
     "cell_type": "code",
     "collapsed": false,
     "input": [
      "## reduce example\n",
      "\n",
      "print(reduce(mul, [1,2,3,4,5])) # == 1*2*3*4*5 == 120\n",
      "print(reduce(add, [1,2,3,4,5])) # == 1+2+3+4+5 == 15"
     ],
     "language": "python",
     "metadata": {},
     "outputs": [
      {
       "output_type": "stream",
       "stream": "stdout",
       "text": [
        "120\n",
        "15\n"
       ]
      }
     ],
     "prompt_number": 31
    },
    {
     "cell_type": "code",
     "collapsed": false,
     "input": [
      "%%time\n",
      "percentages = []\n",
      "\n",
      "for sublist in sample:\n",
      "    tmp = []\n",
      "    for i in sublist:\n",
      "        tmp.append(Decimal(str(i)) + 1)\n",
      "    percentages.append(tmp)\n",
      "    \n",
      "print(percentages)\n",
      "\n",
      "results = []\n",
      "\n",
      "for sublist in percentages:\n",
      "    results.append(reduce(mul, sublist))\n",
      "    \n",
      "print(results)"
     ],
     "language": "python",
     "metadata": {},
     "outputs": [
      {
       "output_type": "stream",
       "stream": "stdout",
       "text": [
        "[[Decimal('1.1'), Decimal('1.3'), Decimal('1.5')], [Decimal('1.25'), Decimal('0.97'), Decimal('0.92')], [Decimal('0.99'), Decimal('1.02'), Decimal('0.97')]]\n",
        "[Decimal('2.145'), Decimal('1.115500'), Decimal('0.979506')]\n",
        "CPU times: user 0 ns, sys: 0 ns, total: 0 ns\n",
        "Wall time: 781 \u00b5s\n"
       ]
      }
     ],
     "prompt_number": 34
    },
    {
     "cell_type": "code",
     "collapsed": false,
     "input": [
      "%%time\n",
      "percentages = [[Decimal(str(i)) + 1 for i in sub] for sub in sample]\n",
      "print(percentages)\n",
      "\n",
      "results = [reduce(mul, sub) for sub in percentages]\n",
      "print(results)"
     ],
     "language": "python",
     "metadata": {},
     "outputs": [
      {
       "output_type": "stream",
       "stream": "stdout",
       "text": [
        "[[Decimal('1.1'), Decimal('1.3'), Decimal('1.5')], [Decimal('1.25'), Decimal('0.97'), Decimal('0.92')], [Decimal('0.99'), Decimal('1.02'), Decimal('0.97')]]\n",
        "[Decimal('2.145'), Decimal('1.115500'), Decimal('0.979506')]\n",
        "CPU times: user 0 ns, sys: 0 ns, total: 0 ns\n",
        "Wall time: 433 \u00b5s\n"
       ]
      }
     ],
     "prompt_number": 35
    },
    {
     "cell_type": "code",
     "collapsed": false,
     "input": [
      "%%time\n",
      "results = [reduce(mul, [Decimal(str(i)) + 1 for i in sub]) for sub in sample]\n",
      "print(results)"
     ],
     "language": "python",
     "metadata": {},
     "outputs": [
      {
       "output_type": "stream",
       "stream": "stdout",
       "text": [
        "[Decimal('2.145'), Decimal('1.115500'), Decimal('0.979506')]\n",
        "CPU times: user 0 ns, sys: 0 ns, total: 0 ns\n",
        "Wall time: 767 \u00b5s\n"
       ]
      }
     ],
     "prompt_number": 36
    },
    {
     "cell_type": "code",
     "collapsed": false,
     "input": [
      "%%time\n",
      "results = [reduce(mul, (Decimal(str(i)) + 1 for i in sub)) for sub in sample]\n",
      "print(results)"
     ],
     "language": "python",
     "metadata": {},
     "outputs": [
      {
       "output_type": "stream",
       "stream": "stdout",
       "text": [
        "[Decimal('2.145'), Decimal('1.115500'), Decimal('0.979506')]\n",
        "CPU times: user 0 ns, sys: 0 ns, total: 0 ns\n",
        "Wall time: 316 \u00b5s\n"
       ]
      }
     ],
     "prompt_number": 55
    }
   ],
   "metadata": {}
  }
 ]
}