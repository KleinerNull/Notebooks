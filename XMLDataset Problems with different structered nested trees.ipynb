{
 "cells": [
  {
   "cell_type": "code",
   "execution_count": 1,
   "metadata": {
    "collapsed": true
   },
   "outputs": [],
   "source": [
    "from xmldataset import parse_using_profile\n",
    "from sys import version"
   ]
  },
  {
   "cell_type": "code",
   "execution_count": 2,
   "metadata": {
    "collapsed": false
   },
   "outputs": [
    {
     "data": {
      "text/plain": [
       "'3.5.2 (default, Jul  5 2016, 12:43:10) \\n[GCC 5.4.0 20160609]'"
      ]
     },
     "execution_count": 2,
     "metadata": {},
     "output_type": "execute_result"
    }
   ],
   "source": [
    "version"
   ]
  },
  {
   "cell_type": "markdown",
   "metadata": {},
   "source": [
    "# Expected output:\n",
    "\n",
    "Everthing works normal"
   ]
  },
  {
   "cell_type": "code",
   "execution_count": 3,
   "metadata": {
    "collapsed": true
   },
   "outputs": [],
   "source": [
    "xml = \"\"\"<?xml version=\"1.0\"?>\n",
    "<data>\n",
    "    <summary>\n",
    "        <min_colleagues>2</min_colleagues>\n",
    "        <current_colleagues>3</current_colleagues>\n",
    "        <max_colleagues>6</max_colleagues>\n",
    "    </summary>\n",
    "    <colleagues>\n",
    "        <colleague>\n",
    "            <title>The Boss</title>\n",
    "            <phone>+1 202-663-9108</phone>\n",
    "            <email>boss@the_company.com</email>\n",
    "        </colleague>\n",
    "        <colleague>\n",
    "            <title>Admin Assistant</title>\n",
    "            <phone>+1 347-999-5454</phone>\n",
    "            <email>admin@the_company.com</email>\n",
    "        </colleague>\n",
    "        <colleague>\n",
    "            <title>Minion</title>\n",
    "            <phone>+1 792-123-4109</phone>\n",
    "            <email>minion@the_company.com</email>\n",
    "        </colleague>\n",
    "    </colleagues>\n",
    "</data>\"\"\"\n"
   ]
  },
  {
   "cell_type": "code",
   "execution_count": 4,
   "metadata": {
    "collapsed": false
   },
   "outputs": [
    {
     "data": {
      "text/plain": [
       "{'colleagues': [{'email': 'boss@the_company.com',\n",
       "   'phone': '+1 202-663-9108',\n",
       "   'title': 'The Boss'},\n",
       "  {'email': 'admin@the_company.com',\n",
       "   'phone': '+1 347-999-5454',\n",
       "   'title': 'Admin Assistant'},\n",
       "  {'email': 'minion@the_company.com',\n",
       "   'phone': '+1 792-123-4109',\n",
       "   'title': 'Minion'}],\n",
       " 'summary': [{'current_colleagues': '3',\n",
       "   'max_colleagues': '6',\n",
       "   'min_colleagues': '2'}]}"
      ]
     },
     "execution_count": 4,
     "metadata": {},
     "output_type": "execute_result"
    }
   ],
   "source": [
    "profile = \"\"\"\n",
    "data\n",
    "    summary\n",
    "        min_colleagues = dataset:summary\n",
    "        current_colleagues = dataset:summary\n",
    "        max_colleagues = dataset:summary\n",
    "    colleagues\n",
    "        colleague\n",
    "            title = dataset:colleagues\n",
    "            phone = dataset:colleagues\n",
    "            email = dataset:colleagues\"\"\"\n",
    "\n",
    "parse_using_profile(xml, profile)"
   ]
  },
  {
   "cell_type": "markdown",
   "metadata": {},
   "source": [
    "# Unexpected output:\n",
    "\n",
    "With a slightly different structured tree, the parsing won't work, it returns nothing."
   ]
  },
  {
   "cell_type": "code",
   "execution_count": 5,
   "metadata": {
    "collapsed": false
   },
   "outputs": [
    {
     "data": {
      "text/plain": [
       "{}"
      ]
     },
     "execution_count": 5,
     "metadata": {},
     "output_type": "execute_result"
    }
   ],
   "source": [
    "xml2 = \"\"\"<?xml version=\"1.0\"?>\n",
    "<data>\n",
    "    <colleagues>\n",
    "        <summary>\n",
    "            <min_colleagues>2</min_colleagues>\n",
    "            <current_colleagues>3</current_colleagues>\n",
    "            <max_colleagues>6</max_colleagues>\n",
    "        </summary>\n",
    "        <colleague>\n",
    "            <title>The Boss</title>\n",
    "            <phone>+1 202-663-9108</phone>\n",
    "            <email>boss@the_company.com</email>\n",
    "        </colleague>\n",
    "        <colleague>\n",
    "            <title>Admin Assistant</title>\n",
    "            <phone>+1 347-999-5454</phone>\n",
    "            <email>admin@the_company.com</email>\n",
    "        </colleague>\n",
    "        <colleague>\n",
    "            <title>Minion</title>\n",
    "            <phone>+1 792-123-4109</phone>\n",
    "            <email>minion@the_company.com</email>\n",
    "        </colleague>\n",
    "    </colleagues>\n",
    "</data>\"\"\"\n",
    "\n",
    "profile2 = \"\"\"\n",
    "data \n",
    "    colleagues\n",
    "        summary\n",
    "            min_colleagues = dataset:summary\n",
    "            current_colleagues = dataset:summary\n",
    "            max_colleagues = dataset:summary\n",
    "        colleague\n",
    "            title = dataset:colleagues\n",
    "            phone = dataset:colleagues\n",
    "            email = dataset:colleagues\"\"\"\n",
    "\n",
    "parse_using_profile(xml2, profile2)"
   ]
  }
 ],
 "metadata": {
  "kernelspec": {
   "display_name": "Python 3",
   "language": "python",
   "name": "python3"
  },
  "language_info": {
   "codemirror_mode": {
    "name": "ipython",
    "version": 3
   },
   "file_extension": ".py",
   "mimetype": "text/x-python",
   "name": "python",
   "nbconvert_exporter": "python",
   "pygments_lexer": "ipython3",
   "version": "3.5.2"
  }
 },
 "nbformat": 4,
 "nbformat_minor": 0
}
